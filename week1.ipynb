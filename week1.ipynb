{
 "cells": [
  {
   "cell_type": "markdown",
   "id": "b0d51279-39dc-4eef-8c52-69d451c3a489",
   "metadata": {},
   "source": [
    "#### Day 1\n",
    "\n",
    "##### On the first day, fundamental topics in Python programming were covered. We started with setting up the working environment using tools like Jupyter Notebooks, which make writing and executing code easier.\n",
    "##### Then, we moved on to variables and data types, such as numbers (integers and floats), strings, and boolean values. Additionally, programming operators were explained, including arithmetic operations, comparisons, and logical operators.\n",
    "##### The first day also included an explanation of control statements such as if, elif, and else to control the program flow based on specific conditions, as well as loops like for and while for repeating tasks.\n",
    "##### Finally, we discussed functions, which are used to perform specific tasks in an organized and reusable manner.\n",
    "\n",
    "\n",
    "\n",
    "\n",
    "\n",
    "\n",
    "\n",
    "\n",
    "\n",
    "\n",
    "\n",
    "\n"
   ]
  },
  {
   "cell_type": "markdown",
   "id": "abcc0f94-841a-450b-85bc-6e1da3f9fa68",
   "metadata": {},
   "source": [
    "- Variables and Data Types :"
   ]
  },
  {
   "cell_type": "code",
   "execution_count": 4,
   "id": "63562c41-728d-4c41-8ec9-e43407e1490a",
   "metadata": {},
   "outputs": [
    {
     "data": {
      "text/plain": [
       "int"
      ]
     },
     "execution_count": 4,
     "metadata": {},
     "output_type": "execute_result"
    }
   ],
   "source": [
    "#Integer (Whole number)\n",
    "x=1\n",
    "type(x)"
   ]
  },
  {
   "cell_type": "code",
   "execution_count": 6,
   "id": "abbd5400-5da3-4cb6-935a-f5c17b13fd0d",
   "metadata": {},
   "outputs": [
    {
     "data": {
      "text/plain": [
       "str"
      ]
     },
     "execution_count": 6,
     "metadata": {},
     "output_type": "execute_result"
    }
   ],
   "source": [
    "#String (Text)\n",
    "St=\"Hessa\"\n",
    "type(St)"
   ]
  },
  {
   "cell_type": "code",
   "execution_count": 8,
   "id": "206cec55-66c2-4904-b6da-ca724bdb09a2",
   "metadata": {},
   "outputs": [
    {
     "data": {
      "text/plain": [
       "float"
      ]
     },
     "execution_count": 8,
     "metadata": {},
     "output_type": "execute_result"
    }
   ],
   "source": [
    "#Float (Decimal number)\n",
    "f=2.2\n",
    "type(f)"
   ]
  },
  {
   "cell_type": "code",
   "execution_count": 10,
   "id": "79969ad2-473b-4e8b-932c-4b8b846a4e55",
   "metadata": {},
   "outputs": [
    {
     "data": {
      "text/plain": [
       "bool"
      ]
     },
     "execution_count": 10,
     "metadata": {},
     "output_type": "execute_result"
    }
   ],
   "source": [
    "#Boolean (True or False)\n",
    "b_o=True\n",
    "type(b_o)"
   ]
  },
  {
   "cell_type": "code",
   "execution_count": 14,
   "id": "e9bc47a3-5cf9-4e65-afb3-ddcec0c9ae3f",
   "metadata": {},
   "outputs": [
    {
     "name": "stdout",
     "output_type": "stream",
     "text": [
      "1\n"
     ]
    }
   ],
   "source": [
    "#Print the value of x to the console\n",
    "print(x)"
   ]
  },
  {
   "cell_type": "markdown",
   "id": "717aa1f2-b204-410f-9880-a891b109d6f7",
   "metadata": {},
   "source": [
    "- f-string formatting :"
   ]
  },
  {
   "cell_type": "code",
   "execution_count": 256,
   "id": "bfd23c35-3b0b-4537-afa7-baa5d8b0d30d",
   "metadata": {},
   "outputs": [
    {
     "name": "stdout",
     "output_type": "stream",
     "text": [
      "A+B=1\n"
     ]
    }
   ],
   "source": [
    "#Print the text with the sum of A and B using f-string formatting\n",
    "print(f\"A+B={x}\")"
   ]
  },
  {
   "cell_type": "markdown",
   "id": "4fb3bf02-6852-41a0-927f-3db8b0287af2",
   "metadata": {},
   "source": [
    "- Operators and Control Flow Statement :"
   ]
  },
  {
   "cell_type": "code",
   "execution_count": 258,
   "id": "a3f4e1ef-402a-4025-bf44-a69533ec35ba",
   "metadata": {},
   "outputs": [
    {
     "name": "stdout",
     "output_type": "stream",
     "text": [
      "1<2\n"
     ]
    }
   ],
   "source": [
    "#Basic Operation: Comparison ( <,>,= ) and Conditional ( if,elif,else ) Statements\n",
    "if x<2:\n",
    "    print(f\"{x}<2\")\n",
    "elif x>2:\n",
    "    print(f\"{x}>2\")\n",
    "else:\n",
    "    print(f\"{x}=2\")"
   ]
  },
  {
   "cell_type": "markdown",
   "id": "f041a142-9d3b-4997-97f5-f45cee4d5c21",
   "metadata": {},
   "source": [
    "- Loops :"
   ]
  },
  {
   "cell_type": "code",
   "execution_count": 260,
   "id": "e5fb054a-69e8-4260-aca9-d2836f3f6ec8",
   "metadata": {},
   "outputs": [
    {
     "name": "stdout",
     "output_type": "stream",
     "text": [
      "0\n",
      "1\n"
     ]
    }
   ],
   "source": [
    "#For Loop that iterates from 0 to 1 and prints each value \n",
    "for i in range(2):\n",
    "    print(i)"
   ]
  },
  {
   "cell_type": "code",
   "execution_count": 262,
   "id": "d19fa5a4-f2ec-4de2-b78e-50e31cb982ce",
   "metadata": {},
   "outputs": [
    {
     "name": "stdout",
     "output_type": "stream",
     "text": [
      "1\n",
      "3\n",
      "5\n",
      "7\n",
      "9\n"
     ]
    }
   ],
   "source": [
    "#While Loop that prints the number and increments it by 2 each time until it reaches 10\n",
    "c=1\n",
    "while c<10:\n",
    "    print(c)\n",
    "    c+=2"
   ]
  },
  {
   "cell_type": "code",
   "execution_count": 264,
   "id": "8280e57f-df2b-4eac-bd8d-7708d4fd8df4",
   "metadata": {},
   "outputs": [
    {
     "name": "stdout",
     "output_type": "stream",
     "text": [
      "H\n",
      "e\n",
      "s\n",
      "s\n",
      "a\n"
     ]
    }
   ],
   "source": [
    "#For Loop that iterates through each character in the string and prints it\n",
    "n=\"Hessa\"\n",
    "for i in range (len(n)):\n",
    "    print(n[i])"
   ]
  },
  {
   "cell_type": "markdown",
   "id": "40e5b20c-222a-4d76-bf25-8995904c600a",
   "metadata": {},
   "source": [
    "- Functions :"
   ]
  },
  {
   "cell_type": "code",
   "execution_count": 266,
   "id": "cbd37623-806c-4460-9b78-65d70d4197f1",
   "metadata": {},
   "outputs": [
    {
     "name": "stdout",
     "output_type": "stream",
     "text": [
      "First Name Hessa, Last Name AlMufleh\n"
     ]
    }
   ],
   "source": [
    "#Function that prints the first and last name\n",
    "def F1(FN, LN):  \n",
    "    print(f\"First Name {FN}, Last Name {LN}\")    \n",
    "\n",
    "#Call the function with 2 parameter\n",
    "F1(\"Hessa\", \"AlMufleh\")  "
   ]
  },
  {
   "cell_type": "markdown",
   "id": "d510ebe8-096b-4974-95d1-67677def589e",
   "metadata": {},
   "source": [
    "#### Home Work"
   ]
  },
  {
   "cell_type": "code",
   "execution_count": 271,
   "id": "6beafb07-0bc1-40ab-bd5a-09e06fd30747",
   "metadata": {},
   "outputs": [
    {
     "name": "stdin",
     "output_type": "stream",
     "text": [
      "Enter The First Number :  2\n",
      "Enter The Second Number :  2\n",
      "Enter The Oprator :  -\n"
     ]
    },
    {
     "name": "stdout",
     "output_type": "stream",
     "text": [
      "0.0\n"
     ]
    }
   ],
   "source": [
    "#Q1\n",
    "num1= float(input(\"Enter The First Number : \"))\n",
    "num2= float(input(\"Enter The Second Number : \"))\n",
    "oper= input(\"Enter The Oprator : \")\n",
    "num3=0\n",
    "if oper == \"+\":\n",
    "    num3=num1+num2\n",
    "elif oper == \"-\":\n",
    "    num3=num1-num2\n",
    "elif oper == \"*\":\n",
    "    num3=num1*num2\n",
    "elif oper == \"/\":\n",
    "    if num2 !=0:\n",
    "        num3=num1/num2\n",
    "    else:\n",
    "         print(\"error\")\n",
    "print(num3)"
   ]
  },
  {
   "cell_type": "code",
   "execution_count": 273,
   "id": "64bb5f47-4353-473d-8748-1f903b6539ff",
   "metadata": {},
   "outputs": [
    {
     "name": "stdin",
     "output_type": "stream",
     "text": [
      "Enter Number:  2\n"
     ]
    },
    {
     "name": "stdout",
     "output_type": "stream",
     "text": [
      "2 Is Positive\n"
     ]
    }
   ],
   "source": [
    "#Q2\n",
    "num= int(input(\"Enter Number: \"))\n",
    "\n",
    "if num>0:\n",
    "    print(f\"{num} Is Positive\")\n",
    "elif num<0:\n",
    "    print(f\"{num} Is Negative\")\n",
    "else:\n",
    "    print(f\"The Number = 0\")\n"
   ]
  },
  {
   "cell_type": "code",
   "execution_count": 275,
   "id": "2023a953-1216-427f-8899-8a7f1e5ed876",
   "metadata": {},
   "outputs": [
    {
     "name": "stdin",
     "output_type": "stream",
     "text": [
      "Enter The Number :  2\n"
     ]
    },
    {
     "name": "stdout",
     "output_type": "stream",
     "text": [
      "2 x 1 = 2\n",
      "2 x 2 = 4\n",
      "2 x 3 = 6\n",
      "2 x 4 = 8\n",
      "2 x 5 = 10\n",
      "2 x 6 = 12\n",
      "2 x 7 = 14\n",
      "2 x 8 = 16\n",
      "2 x 9 = 18\n",
      "2 x 10 = 20\n"
     ]
    }
   ],
   "source": [
    "#Q3\n",
    "def multi():\n",
    "    num = int(input(\"Enter The Number : \"))\n",
    "    for i in range(1, 11):\n",
    "        print(f\"{num} x {i} = \"+ str(num * i))\n",
    "multi()"
   ]
  },
  {
   "cell_type": "code",
   "execution_count": 277,
   "id": "8c005102-04cc-49be-b094-baeed7711632",
   "metadata": {},
   "outputs": [
    {
     "name": "stdin",
     "output_type": "stream",
     "text": [
      "Enter The Number :  2\n"
     ]
    },
    {
     "name": "stdout",
     "output_type": "stream",
     "text": [
      "The Number 2 Is Even\n"
     ]
    }
   ],
   "source": [
    "#Q4\n",
    "n=int(input(\"Enter The Number : \"))\n",
    "if n%2== 0:\n",
    "    print(f\"The Number {n} Is Even\")\n",
    "else:\n",
    "        print(f\"The Number {n} Is Odd\")"
   ]
  },
  {
   "cell_type": "markdown",
   "id": "0cbe0e5b-d1d5-41c0-ac7e-ec7b1996105f",
   "metadata": {},
   "source": [
    "#### Day 2\n",
    "##### On the second day, the focus was on working with data in Python, covering essential concepts and operations related to various data structures.\n",
    "##### We started with Lists, which are ordered collections of items that can store data. The operations included creating lists, modifying them, adding elements, removing elements, and slicing lists.\n",
    "##### Next, we covered Dictionaries, which store data as key-value pairs. We learned how to create dictionaries, access values using keys, modify values, add new key-value pairs, and delete keys.\n",
    "##### We also discussed Tuples, which are similar to lists but immutable. We practiced creating tuples, accessing elements using indexing, and slicing them.\n",
    "##### Additionally, we explained Sets, which are unordered collections of unique elements. Sets can be modified by adding or removing elements. We also learned basic operations such as union, intersection, and difference between sets."
   ]
  },
  {
   "cell_type": "markdown",
   "id": "1374316f-a87b-4f88-a273-353be235089b",
   "metadata": {},
   "source": [
    "- Lists :"
   ]
  },
  {
   "cell_type": "code",
   "execution_count": 287,
   "id": "65d1209c-e62f-46c2-8573-db687a6ba4b4",
   "metadata": {},
   "outputs": [
    {
     "data": {
      "text/plain": [
       "[1, 2, 3, 4, 5, 6, 7, 8, 9, 10]"
      ]
     },
     "execution_count": 287,
     "metadata": {},
     "output_type": "execute_result"
    }
   ],
   "source": [
    "#Create a list containing numbers from 1 to 10 \n",
    "MyList=list(range(1,11))\n",
    "MyList"
   ]
  },
  {
   "cell_type": "code",
   "execution_count": 289,
   "id": "bbaaa6fc-f825-41c5-a768-ddc9d4d02b3e",
   "metadata": {},
   "outputs": [
    {
     "data": {
      "text/plain": [
       "[1, 2, 3, 4, 5, 6, 7, 8, 9, 10, 15]"
      ]
     },
     "execution_count": 289,
     "metadata": {},
     "output_type": "execute_result"
    }
   ],
   "source": [
    "#Add the number 15 to the end of the list \n",
    "MyList.append(15)\n",
    "MyList"
   ]
  },
  {
   "cell_type": "code",
   "execution_count": 291,
   "id": "41902cbd-6dfd-4ab5-b1eb-a1e35217a6de",
   "metadata": {},
   "outputs": [
    {
     "data": {
      "text/plain": [
       "[1, 20, 3, 4, 5, 6, 7, 8, 9, 10, 15]"
      ]
     },
     "execution_count": 291,
     "metadata": {},
     "output_type": "execute_result"
    }
   ],
   "source": [
    "#Update the second element (index 1) to 20\n",
    "MyList[1]=20\n",
    "MyList"
   ]
  },
  {
   "cell_type": "code",
   "execution_count": 295,
   "id": "d90f8530-9624-4e48-9cfc-6a75969cd41b",
   "metadata": {},
   "outputs": [
    {
     "data": {
      "text/plain": [
       "[3, 4, 5, 6, 7, 8, 9, 10, 15]"
      ]
     },
     "execution_count": 295,
     "metadata": {},
     "output_type": "execute_result"
    }
   ],
   "source": [
    "#Print the elements from index 2 to the end \n",
    "MyList1=MyList[2:]\n",
    "MyList1"
   ]
  },
  {
   "cell_type": "markdown",
   "id": "640fd998-3a8e-42b0-893a-9b9405d7885a",
   "metadata": {},
   "source": [
    "- Dictionaries :"
   ]
  },
  {
   "cell_type": "code",
   "execution_count": 297,
   "id": "87245b29-4ae5-4189-a10b-37d66c490e3b",
   "metadata": {},
   "outputs": [
    {
     "data": {
      "text/plain": [
       "{'Name': 'Hessa', 'Last Name': 'AlMufleh'}"
      ]
     },
     "execution_count": 297,
     "metadata": {},
     "output_type": "execute_result"
    }
   ],
   "source": [
    "#Create a dictionary with Key and Value\n",
    "MyDic={\"Name\":\"Hessa\",\"Last Name\":\"AlMufleh\"}\n",
    "MyDic"
   ]
  },
  {
   "cell_type": "code",
   "execution_count": 299,
   "id": "690e8d7a-0747-4b60-8a26-b8fb702dbfcd",
   "metadata": {},
   "outputs": [
    {
     "data": {
      "text/plain": [
       "'Hessa'"
      ]
     },
     "execution_count": 299,
     "metadata": {},
     "output_type": "execute_result"
    }
   ],
   "source": [
    "# Retrieve the value associated with the key \"Name\" from the dictionary\n",
    "name=MyDic[\"Name\"]\n",
    "name"
   ]
  },
  {
   "cell_type": "code",
   "execution_count": 301,
   "id": "438ca4fe-be02-493d-8e30-b3b69ec9b748",
   "metadata": {},
   "outputs": [
    {
     "data": {
      "text/plain": [
       "{'Name': 'Hessa', 'Last Name': 'AlMufleh', 'Mid Name': 'Faisal'}"
      ]
     },
     "execution_count": 301,
     "metadata": {},
     "output_type": "execute_result"
    }
   ],
   "source": [
    "#Add a new key \"Mid Name\" with the value \"Faisal\" to the dictionary\n",
    "MyDic[\"Mid Name\"]=\"Faisal\"\n",
    "MyDic"
   ]
  },
  {
   "cell_type": "code",
   "execution_count": 303,
   "id": "0e44e7aa-b1b8-488f-a70d-c9f6194287e4",
   "metadata": {},
   "outputs": [
    {
     "data": {
      "text/plain": [
       "dict_keys(['Name', 'Last Name', 'Mid Name'])"
      ]
     },
     "execution_count": 303,
     "metadata": {},
     "output_type": "execute_result"
    }
   ],
   "source": [
    "#Retrieve all keys from the dictionary \n",
    "MyDic.keys()"
   ]
  },
  {
   "cell_type": "code",
   "execution_count": 305,
   "id": "938ffcb0-d502-48d2-a313-da30a22d703e",
   "metadata": {},
   "outputs": [
    {
     "data": {
      "text/plain": [
       "dict_values(['Hessa', 'AlMufleh', 'Faisal'])"
      ]
     },
     "execution_count": 305,
     "metadata": {},
     "output_type": "execute_result"
    }
   ],
   "source": [
    "#Retrieve all values from the dictionary \n",
    "MyDic.values()"
   ]
  },
  {
   "cell_type": "code",
   "execution_count": 307,
   "id": "62c47c55-bccb-411b-b970-78841839dedf",
   "metadata": {},
   "outputs": [
    {
     "data": {
      "text/plain": [
       "dict_items([('Name', 'Hessa'), ('Last Name', 'AlMufleh'), ('Mid Name', 'Faisal')])"
      ]
     },
     "execution_count": 307,
     "metadata": {},
     "output_type": "execute_result"
    }
   ],
   "source": [
    "#Retrieve all key-value pairs from the dictionary \n",
    "MyDic.items()"
   ]
  },
  {
   "cell_type": "code",
   "execution_count": 309,
   "id": "be56359c-4c88-4298-b202-4f51daa745f3",
   "metadata": {},
   "outputs": [
    {
     "data": {
      "text/plain": [
       "{'Nmae': 'Hessa', 'Age': 22, 'City': 'Tabuk'}"
      ]
     },
     "execution_count": 309,
     "metadata": {},
     "output_type": "execute_result"
    }
   ],
   "source": [
    "#Create a dictionary\n",
    "MyDic1={\"Nmae\":\"Hessa\",\"Age\":22,\"City\":\"Tabuk\"}\n",
    "MyDic1"
   ]
  },
  {
   "cell_type": "code",
   "execution_count": 311,
   "id": "1f19b7b4-2b5c-4166-acd9-79a468e31cf9",
   "metadata": {},
   "outputs": [
    {
     "data": {
      "text/plain": [
       "{'Nmae': 'Hessa', 'Age': 30, 'City': 'Tabuk'}"
      ]
     },
     "execution_count": 311,
     "metadata": {},
     "output_type": "execute_result"
    }
   ],
   "source": [
    "#Update the value of the key \"Age\" to 30\n",
    "MyDic1[\"Age\"]=30\n",
    "MyDic1"
   ]
  },
  {
   "cell_type": "code",
   "execution_count": 313,
   "id": "5563f182-7219-4fb2-98c5-88cd9303002e",
   "metadata": {},
   "outputs": [
    {
     "data": {
      "text/plain": [
       "{'Nmae': 'Hessa', 'Age': 30, 'City': 'Tabuk', 'Email': '***@gmail.com'}"
      ]
     },
     "execution_count": 313,
     "metadata": {},
     "output_type": "execute_result"
    }
   ],
   "source": [
    "#Add a new key \"Email\" with the value \"***@gmail.com\" to the dictionary\n",
    "MyDic1[\"Email\"]=\"***@gmail.com\"\n",
    "MyDic1"
   ]
  },
  {
   "cell_type": "code",
   "execution_count": 315,
   "id": "7f41ebf0-b4c5-4022-8cbb-ecc6b16bf324",
   "metadata": {},
   "outputs": [
    {
     "data": {
      "text/plain": [
       "{'Nmae': 'Hessa', 'Age': 30, 'Email': '***@gmail.com'}"
      ]
     },
     "execution_count": 315,
     "metadata": {},
     "output_type": "execute_result"
    }
   ],
   "source": [
    "#Remove the key \"City\" and its value from the dictionary\n",
    "del MyDic1[\"City\"]\n",
    "MyDic1"
   ]
  },
  {
   "cell_type": "markdown",
   "id": "1f7c973e-b373-4148-a0f6-f47a7295cd93",
   "metadata": {},
   "source": [
    "- Tuples :"
   ]
  },
  {
   "cell_type": "code",
   "execution_count": 317,
   "id": "0ac9a2c9-12fe-434f-b6a3-fbd480e19c36",
   "metadata": {},
   "outputs": [
    {
     "data": {
      "text/plain": [
       "(1, 2, 3, 4, 5)"
      ]
     },
     "execution_count": 317,
     "metadata": {},
     "output_type": "execute_result"
    }
   ],
   "source": [
    "#Create a tuple containing numbers from 1 to 5\n",
    "MyTuple=(1,2,3,4,5)\n",
    "MyTuple"
   ]
  },
  {
   "cell_type": "code",
   "execution_count": 319,
   "id": "be982649-0ae6-4374-8b00-6011c1d52a08",
   "metadata": {},
   "outputs": [
    {
     "data": {
      "text/plain": [
       "2"
      ]
     },
     "execution_count": 319,
     "metadata": {},
     "output_type": "execute_result"
    }
   ],
   "source": [
    "#Print the second element of the tuple (index 1)\n",
    "MyTuple[1]"
   ]
  },
  {
   "cell_type": "code",
   "execution_count": 321,
   "id": "6f6acaeb-5e77-467d-875c-a84e153d5d02",
   "metadata": {},
   "outputs": [
    {
     "data": {
      "text/plain": [
       "[1, 2, 3, 4, 5]"
      ]
     },
     "execution_count": 321,
     "metadata": {},
     "output_type": "execute_result"
    }
   ],
   "source": [
    "#Convert the tuple to a list \n",
    "MyTuple2=list(MyTuple)\n",
    "MyTuple2"
   ]
  },
  {
   "cell_type": "code",
   "execution_count": 323,
   "id": "211ee2b9-47a8-4829-9550-dadd93112a07",
   "metadata": {},
   "outputs": [
    {
     "data": {
      "text/plain": [
       "[1, 4, 3, 4, 5]"
      ]
     },
     "execution_count": 323,
     "metadata": {},
     "output_type": "execute_result"
    }
   ],
   "source": [
    "#Update the second element (index 1) to 4 \n",
    "MyTuple2[1]=4\n",
    "MyTuple2"
   ]
  },
  {
   "cell_type": "code",
   "execution_count": 333,
   "id": "58f45f08-3bc9-4ef1-a22d-7ed6f515a2b0",
   "metadata": {},
   "outputs": [
    {
     "data": {
      "text/plain": [
       "(1, 4, 3, 4, 5)"
      ]
     },
     "execution_count": 333,
     "metadata": {},
     "output_type": "execute_result"
    }
   ],
   "source": [
    "#Convert the list to a tuple \n",
    "MyTuple=tuple(MyTuple2)\n",
    "MyTuple"
   ]
  },
  {
   "cell_type": "markdown",
   "id": "5a012f27-1313-4963-838a-12428fe7a649",
   "metadata": {},
   "source": [
    "- Sets :"
   ]
  },
  {
   "cell_type": "code",
   "execution_count": 335,
   "id": "b1cf7da4-8521-4050-b75f-b7909e10ef3f",
   "metadata": {},
   "outputs": [
    {
     "data": {
      "text/plain": [
       "{1, 2, 3, 4, 5}"
      ]
     },
     "execution_count": 335,
     "metadata": {},
     "output_type": "execute_result"
    }
   ],
   "source": [
    "#Create a set containing unique numbers from 1 to 5 \n",
    "MySet={1,2,3,4,5}\n",
    "MySet"
   ]
  },
  {
   "cell_type": "code",
   "execution_count": 337,
   "id": "889e9a49-6899-47e3-9780-85d18040f377",
   "metadata": {},
   "outputs": [
    {
     "data": {
      "text/plain": [
       "{1, 2, 3, 4, 5, 6}"
      ]
     },
     "execution_count": 337,
     "metadata": {},
     "output_type": "execute_result"
    }
   ],
   "source": [
    "#Add the number 6 to the set \n",
    "MySet.add(6)\n",
    "MySet"
   ]
  },
  {
   "cell_type": "code",
   "execution_count": 339,
   "id": "fef1e89a-9db7-482f-be94-bac5891682e4",
   "metadata": {},
   "outputs": [
    {
     "data": {
      "text/plain": [
       "{1, 2, 3, 4, 5, 6, 7, 8}"
      ]
     },
     "execution_count": 339,
     "metadata": {},
     "output_type": "execute_result"
    }
   ],
   "source": [
    "#Add multiple elements (7 and 8) to the set\n",
    "MySet.update({7,8})\n",
    "MySet"
   ]
  },
  {
   "cell_type": "code",
   "execution_count": 341,
   "id": "2311b640-bdd0-4cf5-bc6d-3c7cf07cb5a3",
   "metadata": {},
   "outputs": [
    {
     "data": {
      "text/plain": [
       "{1, 2, 3, 4, 5}"
      ]
     },
     "execution_count": 341,
     "metadata": {},
     "output_type": "execute_result"
    }
   ],
   "source": [
    "#Perform union operation\n",
    "set1={1,2,3}\n",
    "set2={3,4,5}\n",
    "set1 | set2"
   ]
  },
  {
   "cell_type": "code",
   "execution_count": 343,
   "id": "3bce12aa-ba6c-4857-b087-7c88c75588e8",
   "metadata": {},
   "outputs": [
    {
     "data": {
      "text/plain": [
       "{3}"
      ]
     },
     "execution_count": 343,
     "metadata": {},
     "output_type": "execute_result"
    }
   ],
   "source": [
    "#Perform intersection operation\n",
    "set1 & set2"
   ]
  },
  {
   "cell_type": "code",
   "execution_count": 345,
   "id": "b5d2ccb4-ca45-49d1-9d70-cb34b95ffe02",
   "metadata": {},
   "outputs": [
    {
     "data": {
      "text/plain": [
       "{1, 2}"
      ]
     },
     "execution_count": 345,
     "metadata": {},
     "output_type": "execute_result"
    }
   ],
   "source": [
    "#Perform difference operation\n",
    "set1 - set2"
   ]
  },
  {
   "cell_type": "code",
   "execution_count": 347,
   "id": "b73fbe08-ba1b-4f92-a207-ce8386601b50",
   "metadata": {},
   "outputs": [
    {
     "data": {
      "text/plain": [
       "36"
      ]
     },
     "execution_count": 347,
     "metadata": {},
     "output_type": "execute_result"
    }
   ],
   "source": [
    "#Calculate the sum of all elements in the set\n",
    "sum(MySet)"
   ]
  },
  {
   "cell_type": "code",
   "execution_count": 349,
   "id": "c55e41a4-bc9a-4916-811d-7e7735e576f2",
   "metadata": {},
   "outputs": [
    {
     "data": {
      "text/plain": [
       "8"
      ]
     },
     "execution_count": 349,
     "metadata": {},
     "output_type": "execute_result"
    }
   ],
   "source": [
    "#Find the maximum value in the set \n",
    "max(MySet)"
   ]
  },
  {
   "cell_type": "code",
   "execution_count": 351,
   "id": "940b10b8-a165-4be3-ba49-36e85652c91e",
   "metadata": {},
   "outputs": [
    {
     "data": {
      "text/plain": [
       "1"
      ]
     },
     "execution_count": 351,
     "metadata": {},
     "output_type": "execute_result"
    }
   ],
   "source": [
    "#Find the minimum value in the set \n",
    "min(MySet)"
   ]
  },
  {
   "cell_type": "markdown",
   "id": "bc440403-ba36-4ac1-869b-4682cd8e5288",
   "metadata": {},
   "source": [
    "##### Home Work"
   ]
  },
  {
   "cell_type": "code",
   "execution_count": 3,
   "id": "7c796d8d-7eb3-4594-9f97-5793aa79ad78",
   "metadata": {},
   "outputs": [
    {
     "data": {
      "text/plain": [
       "{1, 2, 3, 4, 5, 6, 7, 8, 9}"
      ]
     },
     "execution_count": 3,
     "metadata": {},
     "output_type": "execute_result"
    }
   ],
   "source": [
    "#Q1\n",
    "MySet1={1,2,3,4,5,6,7,8,9}\n",
    "MySet1"
   ]
  },
  {
   "cell_type": "code",
   "execution_count": 5,
   "id": "828b6cf2-a9b7-4bad-8a78-cc215d7b3695",
   "metadata": {},
   "outputs": [
    {
     "data": {
      "text/plain": [
       "45"
      ]
     },
     "execution_count": 5,
     "metadata": {},
     "output_type": "execute_result"
    }
   ],
   "source": [
    "sum(MySet1)"
   ]
  },
  {
   "cell_type": "code",
   "execution_count": 7,
   "id": "105c69a2-c4c1-45fd-b6c2-c61bc48697c6",
   "metadata": {},
   "outputs": [
    {
     "name": "stdout",
     "output_type": "stream",
     "text": [
      "45\n"
     ]
    }
   ],
   "source": [
    "TS=0\n",
    "for i in MySet1:\n",
    "    TS += i\n",
    "print(TS)"
   ]
  },
  {
   "cell_type": "code",
   "execution_count": 204,
   "id": "ba5508fc-e988-45b2-a7b1-ee9cee28e8c5",
   "metadata": {},
   "outputs": [
    {
     "name": "stdout",
     "output_type": "stream",
     "text": [
      "Min = 1 , Max = 9\n"
     ]
    }
   ],
   "source": [
    "#Q2\n",
    "print(\"Min = \"+str(min(MySet1))+ \" , Max = \"+str(max(MySet1)))"
   ]
  },
  {
   "cell_type": "code",
   "execution_count": 224,
   "id": "c66fdd83-e60d-420b-bc6d-b9a5e6295186",
   "metadata": {},
   "outputs": [
    {
     "name": "stdout",
     "output_type": "stream",
     "text": [
      "5\n"
     ]
    }
   ],
   "source": [
    "#Q3\n",
    "MyList=[1,2,2,2,2,2,3,4,5]\n",
    "co=MyList.count(2)\n",
    "print(co)"
   ]
  },
  {
   "cell_type": "code",
   "execution_count": 238,
   "id": "48617f5f-c41d-4b0a-87ef-8dfe860d5537",
   "metadata": {},
   "outputs": [
    {
     "name": "stdout",
     "output_type": "stream",
     "text": [
      "2\n",
      "4\n",
      "6\n"
     ]
    }
   ],
   "source": [
    "#Q4\n",
    "List=[1,2,3,4,5,6]\n",
    "for i in range(len(List)):\n",
    "    if List[i]%2 ==0:\n",
    "        print(List[i])"
   ]
  },
  {
   "cell_type": "markdown",
   "id": "765bf3ce-cf88-4e45-8083-6b8e396cf9b0",
   "metadata": {},
   "source": [
    "#### Day 3: Introduction to Libraries and Tools for AI\n",
    "\n",
    "#####  On the third day, we started by explaining how to open files in Python using the open() function, specifying modes such as 'r' for reading, 'w' for writing, 'a' for appending, and binary modes 'rb' and 'wb'. We also learned how to read files using read() and readlines(), and write to files using write() and writelines(), emphasizing the importance of closing files to ensure data is saved correctly.\n",
    "##### And we explored Pandas, a powerful library for data analysis. We worked with DataFrame, a table-like structure, and learned how to handle missing data, filter datasets, and compute summary statistics.\n",
    "##### And the Numpy, is a library that provides powerful tools for working with numerical data using multi-dimensional arrays. It is ideal for performing advanced mathematical operations such as linear algebra and statistical computations.\n",
    "##### We learned how to use Matplotlib to create data visualizations and charts, making it easier to understand and analyze data using different types of plots and graphs.\n",
    "\n",
    "\n",
    "\n",
    "\n"
   ]
  },
  {
   "cell_type": "markdown",
   "id": "732d95dd-18cf-486b-99d7-4fa436d00e42",
   "metadata": {},
   "source": [
    "- File Handling :"
   ]
  },
  {
   "cell_type": "code",
   "execution_count": 168,
   "id": "97f935d2-b6b1-4c5e-a64b-c06ee275fbb4",
   "metadata": {},
   "outputs": [],
   "source": [
    "#Open a file in write mode\n",
    "with open(\"output.txt\",\"w\") as file:\n",
    "    file.write(\"Hessa\") "
   ]
  },
  {
   "cell_type": "code",
   "execution_count": 170,
   "id": "838942ae-f58d-45d7-ae6f-a4ada0c2d87c",
   "metadata": {},
   "outputs": [],
   "source": [
    "#Create a list of lines to be written to the file\n",
    "line=[\"First Name\\n\",\"Second Name\\n\",\"Last Nmae\\n\"]\n",
    "with open(\"output.txt\",\"w\") as file:\n",
    "    file.writelines(line) "
   ]
  },
  {
   "cell_type": "code",
   "execution_count": 45,
   "id": "99940b31-6271-419f-bc87-31e5c3e110bd",
   "metadata": {},
   "outputs": [],
   "source": [
    "with open(\"output.txt\",\"a\") as file:\n",
    "    file.write(\"Hessa\\nFaisal\\nAlMufleh\") "
   ]
  },
  {
   "cell_type": "code",
   "execution_count": 172,
   "id": "bac88a2b-a177-4b80-bc4f-2744a1771724",
   "metadata": {},
   "outputs": [
    {
     "name": "stdout",
     "output_type": "stream",
     "text": [
      "First Name\n",
      "Second Name\n",
      "Last Nmae\n",
      "\n"
     ]
    }
   ],
   "source": [
    "#Open \"output.txt\" in append mode (\"a\")\n",
    "#Append \"Hessa\", \"Faisal\", and \"AlMufleh\" to the file without clearing existing content\n",
    "with open(\"output.txt\",\"r\") as file:\n",
    "   content=file.read()\n",
    "print(content)"
   ]
  },
  {
   "cell_type": "code",
   "execution_count": 174,
   "id": "d617c116-45a3-48f9-b1d0-606c4b26cf44",
   "metadata": {},
   "outputs": [
    {
     "data": {
      "text/plain": [
       "str"
      ]
     },
     "execution_count": 174,
     "metadata": {},
     "output_type": "execute_result"
    }
   ],
   "source": [
    "#Type of the variable \"content\"\n",
    "type(content)"
   ]
  },
  {
   "cell_type": "code",
   "execution_count": 176,
   "id": "2dd3968f-d4de-4ffb-9993-59c9034ca009",
   "metadata": {},
   "outputs": [
    {
     "name": "stdout",
     "output_type": "stream",
     "text": [
      "['First Name\\n', 'Second Name\\n', 'Last Nmae\\n']\n"
     ]
    }
   ],
   "source": [
    "#Open \"output.txt\" in read mode (\"r\")\n",
    "#Read all lines from the file and store them in a list\n",
    "with open(\"output.txt\",\"r\") as file:\n",
    "    line=file.readlines()\n",
    "print(line)"
   ]
  },
  {
   "cell_type": "code",
   "execution_count": 178,
   "id": "c96e1d31-7484-44bf-a705-40185d93709b",
   "metadata": {},
   "outputs": [],
   "source": [
    "#Open the file \"about-us.jpg\" in binary read mode (\"rb\")\n",
    "with open(\"C:\\\\Users\\\\huawei\\\\Desktop\\\\about-us.jpg\",\"rb\") as file:\n",
    "    RB=file.read()"
   ]
  },
  {
   "cell_type": "code",
   "execution_count": 180,
   "id": "9a227644-4d37-473f-ba9a-988a79d2d001",
   "metadata": {},
   "outputs": [],
   "source": [
    "#Open a new file \"copy-about-us.jpg\" in binary write mode (\"wb\") and create a copy of the original file\n",
    "with open(\"copy-about-us.jpg\",\"wb\") as new_file: \n",
    "    new_file.write(RB)"
   ]
  },
  {
   "cell_type": "markdown",
   "id": "363f7bc1-6ff0-4591-857a-600290d905b6",
   "metadata": {},
   "source": [
    "- Pandas : Data Cleaning and Manipulation :"
   ]
  },
  {
   "cell_type": "code",
   "execution_count": 5,
   "id": "a88b6abf-cd67-40ed-97a9-8a3bfaee1654",
   "metadata": {},
   "outputs": [],
   "source": [
    "#Import the pandas library for data manipulation and analysis\n",
    "import pandas as pd"
   ]
  },
  {
   "cell_type": "code",
   "execution_count": 7,
   "id": "8483c233-1ef8-49fd-8026-5b1d32cfd355",
   "metadata": {},
   "outputs": [
    {
     "name": "stdout",
     "output_type": "stream",
     "text": [
      "    Nmae  Age      City\n",
      "0   John   28  New York\n",
      "1   Anna   24     Paris\n",
      "2  Peter   35    Barlin\n",
      "3  Linda   40    London\n"
     ]
    }
   ],
   "source": [
    "import pandas as pd\n",
    "#Create a dictionary containing sample data\n",
    "data={\"Nmae\":[\"John\",\"Anna\",\"Peter\",\"Linda\"],\n",
    "     \"Age\":[28,24,35,40],\"City\":[\"New York\",\"Paris\",\"Barlin\",\"London\"]}\n",
    "#Convert the dictionary into a DataFrame\n",
    "df=pd.DataFrame(data)\n",
    "print(df)"
   ]
  },
  {
   "cell_type": "code",
   "execution_count": 9,
   "id": "348568a5-ad8e-44f0-a52a-4bc5914685eb",
   "metadata": {},
   "outputs": [
    {
     "data": {
      "text/plain": [
       "40"
      ]
     },
     "execution_count": 9,
     "metadata": {},
     "output_type": "execute_result"
    }
   ],
   "source": [
    "#Get the maximum age value from the \"Age\" column\n",
    "MaxAge=df[\"Age\"].max()\n",
    "MaxAge"
   ]
  },
  {
   "cell_type": "code",
   "execution_count": 11,
   "id": "e912d266-2f09-4ead-b93b-d27cab564234",
   "metadata": {},
   "outputs": [
    {
     "data": {
      "text/plain": [
       "24"
      ]
     },
     "execution_count": 11,
     "metadata": {},
     "output_type": "execute_result"
    }
   ],
   "source": [
    "#Get the minimum age value from the \"Age\" column\n",
    "MinAge=df[\"Age\"].min()\n",
    "MinAge"
   ]
  },
  {
   "cell_type": "code",
   "execution_count": 13,
   "id": "f43ab24a-8e5a-4166-b0f1-3fc7937ab849",
   "metadata": {},
   "outputs": [
    {
     "name": "stdout",
     "output_type": "stream",
     "text": [
      "      Name        Age\n",
      "0     John  28.000000\n",
      "1     Anna  34.333333\n",
      "2    Peter  35.000000\n",
      "3  Unknown  40.000000\n"
     ]
    }
   ],
   "source": [
    "#Pandas for Data Cleaning\n",
    "df = pd.DataFrame({'Name': ['John', 'Anna', 'Peter', None],\n",
    "                   'Age': [28, None, 35, 40]})\n",
    "\n",
    "#Fill missing values with a default value\n",
    "df.fillna({'Name': 'Unknown', 'Age': df['Age'].mean()}, inplace=True)\n",
    "print(df)\n"
   ]
  },
  {
   "cell_type": "code",
   "execution_count": 15,
   "id": "0cb4a6f0-7fda-44ad-ad67-0da03cb34405",
   "metadata": {},
   "outputs": [
    {
     "name": "stdout",
     "output_type": "stream",
     "text": [
      "    Name  Age  Salary\n",
      "2  Peter   35   60000\n",
      "3  Linda   40   70000\n",
      "Average Salary: 55000.0\n"
     ]
    }
   ],
   "source": [
    "#Create a small dataset\n",
    "data = {'Name': ['John', 'Anna', 'Peter', 'Linda'],\n",
    "        'Age': [28, 24, 35, 40],\n",
    "        'Salary': [40000, 50000, 60000, 70000]}\n",
    "\n",
    "df = pd.DataFrame(data)\n",
    "\n",
    "#Filter rows where Age > 30\n",
    "filtered_df = df[df['Age'] > 30]\n",
    "print(filtered_df)\n",
    "\n",
    "#Calculate the average salary\n",
    "average_salary = df['Salary'].mean()\n",
    "print(f\"Average Salary: {average_salary}\")"
   ]
  },
  {
   "cell_type": "code",
   "execution_count": 17,
   "id": "2c6b9384-7ff2-4da9-8970-5afa8754d7f4",
   "metadata": {},
   "outputs": [
    {
     "data": {
      "text/plain": [
       "220000"
      ]
     },
     "execution_count": 17,
     "metadata": {},
     "output_type": "execute_result"
    }
   ],
   "source": [
    "#Compute the sum of salaries\n",
    "total=df[\"Salary\"].sum()\n",
    "total"
   ]
  },
  {
   "cell_type": "code",
   "execution_count": 19,
   "id": "6062c151-5c5b-46c6-8648-d8d8cc2aaaac",
   "metadata": {},
   "outputs": [
    {
     "data": {
      "text/html": [
       "<div>\n",
       "<style scoped>\n",
       "    .dataframe tbody tr th:only-of-type {\n",
       "        vertical-align: middle;\n",
       "    }\n",
       "\n",
       "    .dataframe tbody tr th {\n",
       "        vertical-align: top;\n",
       "    }\n",
       "\n",
       "    .dataframe thead th {\n",
       "        text-align: right;\n",
       "    }\n",
       "</style>\n",
       "<table border=\"1\" class=\"dataframe\">\n",
       "  <thead>\n",
       "    <tr style=\"text-align: right;\">\n",
       "      <th></th>\n",
       "      <th>Name</th>\n",
       "      <th>Age</th>\n",
       "      <th>Salary</th>\n",
       "    </tr>\n",
       "  </thead>\n",
       "  <tbody>\n",
       "    <tr>\n",
       "      <th>0</th>\n",
       "      <td>John</td>\n",
       "      <td>28</td>\n",
       "      <td>40000</td>\n",
       "    </tr>\n",
       "    <tr>\n",
       "      <th>1</th>\n",
       "      <td>Anna</td>\n",
       "      <td>24</td>\n",
       "      <td>50000</td>\n",
       "    </tr>\n",
       "  </tbody>\n",
       "</table>\n",
       "</div>"
      ],
      "text/plain": [
       "   Name  Age  Salary\n",
       "0  John   28   40000\n",
       "1  Anna   24   50000"
      ]
     },
     "execution_count": 19,
     "metadata": {},
     "output_type": "execute_result"
    }
   ],
   "source": [
    "#Filter rows where Age is less than 30\n",
    "filtered_df = df[df['Age'] < 30]\n",
    "filtered_df"
   ]
  },
  {
   "cell_type": "code",
   "execution_count": 21,
   "id": "77065efc-39e9-484f-abef-5831ae5fb2cf",
   "metadata": {},
   "outputs": [
    {
     "data": {
      "text/plain": [
       "22500.0"
      ]
     },
     "execution_count": 21,
     "metadata": {},
     "output_type": "execute_result"
    }
   ],
   "source": [
    "#Compute the sum of salaries in the filtered DataFrame and divide by 4\n",
    "x=filtered_df['Salary'].sum()/4\n",
    "x"
   ]
  },
  {
   "cell_type": "code",
   "execution_count": 23,
   "id": "80eca1cb-f9da-4263-a237-a19160583b10",
   "metadata": {},
   "outputs": [
    {
     "data": {
      "text/html": [
       "<div>\n",
       "<style scoped>\n",
       "    .dataframe tbody tr th:only-of-type {\n",
       "        vertical-align: middle;\n",
       "    }\n",
       "\n",
       "    .dataframe tbody tr th {\n",
       "        vertical-align: top;\n",
       "    }\n",
       "\n",
       "    .dataframe thead th {\n",
       "        text-align: right;\n",
       "    }\n",
       "</style>\n",
       "<table border=\"1\" class=\"dataframe\">\n",
       "  <thead>\n",
       "    <tr style=\"text-align: right;\">\n",
       "      <th></th>\n",
       "      <th>Name</th>\n",
       "      <th>Age</th>\n",
       "      <th>Salary</th>\n",
       "    </tr>\n",
       "  </thead>\n",
       "  <tbody>\n",
       "    <tr>\n",
       "      <th>0</th>\n",
       "      <td>John</td>\n",
       "      <td>28</td>\n",
       "      <td>40000</td>\n",
       "    </tr>\n",
       "  </tbody>\n",
       "</table>\n",
       "</div>"
      ],
      "text/plain": [
       "   Name  Age  Salary\n",
       "0  John   28   40000"
      ]
     },
     "execution_count": 23,
     "metadata": {},
     "output_type": "execute_result"
    }
   ],
   "source": [
    "#Filter rows where the Name is \"John\"\n",
    "filtered_df = df[df['Name'] == \"John\"]\n",
    "filtered_df"
   ]
  },
  {
   "cell_type": "code",
   "execution_count": 27,
   "id": "8a959a4a-d726-4501-9692-30118f29aa96",
   "metadata": {},
   "outputs": [
    {
     "data": {
      "text/html": [
       "<div>\n",
       "<style scoped>\n",
       "    .dataframe tbody tr th:only-of-type {\n",
       "        vertical-align: middle;\n",
       "    }\n",
       "\n",
       "    .dataframe tbody tr th {\n",
       "        vertical-align: top;\n",
       "    }\n",
       "\n",
       "    .dataframe thead th {\n",
       "        text-align: right;\n",
       "    }\n",
       "</style>\n",
       "<table border=\"1\" class=\"dataframe\">\n",
       "  <thead>\n",
       "    <tr style=\"text-align: right;\">\n",
       "      <th></th>\n",
       "      <th>Name</th>\n",
       "      <th>Age</th>\n",
       "      <th>Salary</th>\n",
       "    </tr>\n",
       "  </thead>\n",
       "  <tbody>\n",
       "    <tr>\n",
       "      <th>0</th>\n",
       "      <td>John</td>\n",
       "      <td>28</td>\n",
       "      <td>40000</td>\n",
       "    </tr>\n",
       "    <tr>\n",
       "      <th>1</th>\n",
       "      <td>Anna</td>\n",
       "      <td>24</td>\n",
       "      <td>50000</td>\n",
       "    </tr>\n",
       "  </tbody>\n",
       "</table>\n",
       "</div>"
      ],
      "text/plain": [
       "   Name  Age  Salary\n",
       "0  John   28   40000\n",
       "1  Anna   24   50000"
      ]
     },
     "execution_count": 27,
     "metadata": {},
     "output_type": "execute_result"
    }
   ],
   "source": [
    "#Filter rows where Age is less than 30 and Salary is greater than 40,000\n",
    "filtered_df = df[(df['Age'] <= 30) & (df['Salary'] >= 40000)]\n",
    "filtered_df"
   ]
  },
  {
   "cell_type": "code",
   "execution_count": 41,
   "id": "9fe7b1cf-ee5b-4ec9-ab80-1d15cf57fdb5",
   "metadata": {},
   "outputs": [
    {
     "data": {
      "text/html": [
       "<div>\n",
       "<style scoped>\n",
       "    .dataframe tbody tr th:only-of-type {\n",
       "        vertical-align: middle;\n",
       "    }\n",
       "\n",
       "    .dataframe tbody tr th {\n",
       "        vertical-align: top;\n",
       "    }\n",
       "\n",
       "    .dataframe thead th {\n",
       "        text-align: right;\n",
       "    }\n",
       "</style>\n",
       "<table border=\"1\" class=\"dataframe\">\n",
       "  <thead>\n",
       "    <tr style=\"text-align: right;\">\n",
       "      <th></th>\n",
       "      <th>Name</th>\n",
       "      <th>Age</th>\n",
       "      <th>Salary</th>\n",
       "    </tr>\n",
       "  </thead>\n",
       "  <tbody>\n",
       "    <tr>\n",
       "      <th>0</th>\n",
       "      <td>John</td>\n",
       "      <td>28</td>\n",
       "      <td>40000</td>\n",
       "    </tr>\n",
       "    <tr>\n",
       "      <th>1</th>\n",
       "      <td>Anna</td>\n",
       "      <td>24</td>\n",
       "      <td>50000</td>\n",
       "    </tr>\n",
       "  </tbody>\n",
       "</table>\n",
       "</div>"
      ],
      "text/plain": [
       "   Name  Age  Salary\n",
       "0  John   28   40000\n",
       "1  Anna   24   50000"
      ]
     },
     "execution_count": 41,
     "metadata": {},
     "output_type": "execute_result"
    }
   ],
   "source": [
    "#Filter rows where Name is either \"John\" or \"Anna\"\n",
    "filtered_df = df[df['Name'].isin(['John', 'Anna'])]\n",
    "filtered_df"
   ]
  },
  {
   "cell_type": "code",
   "execution_count": 37,
   "id": "2bbb4d97-a291-4d99-b0ac-56d5646e402a",
   "metadata": {},
   "outputs": [
    {
     "data": {
      "text/html": [
       "<div>\n",
       "<style scoped>\n",
       "    .dataframe tbody tr th:only-of-type {\n",
       "        vertical-align: middle;\n",
       "    }\n",
       "\n",
       "    .dataframe tbody tr th {\n",
       "        vertical-align: top;\n",
       "    }\n",
       "\n",
       "    .dataframe thead th {\n",
       "        text-align: right;\n",
       "    }\n",
       "</style>\n",
       "<table border=\"1\" class=\"dataframe\">\n",
       "  <thead>\n",
       "    <tr style=\"text-align: right;\">\n",
       "      <th></th>\n",
       "      <th>Name</th>\n",
       "      <th>Age</th>\n",
       "      <th>Salary</th>\n",
       "    </tr>\n",
       "  </thead>\n",
       "  <tbody>\n",
       "    <tr>\n",
       "      <th>1</th>\n",
       "      <td>Anna</td>\n",
       "      <td>24</td>\n",
       "      <td>50000</td>\n",
       "    </tr>\n",
       "    <tr>\n",
       "      <th>2</th>\n",
       "      <td>Peter</td>\n",
       "      <td>35</td>\n",
       "      <td>60000</td>\n",
       "    </tr>\n",
       "    <tr>\n",
       "      <th>3</th>\n",
       "      <td>Linda</td>\n",
       "      <td>40</td>\n",
       "      <td>70000</td>\n",
       "    </tr>\n",
       "  </tbody>\n",
       "</table>\n",
       "</div>"
      ],
      "text/plain": [
       "    Name  Age  Salary\n",
       "1   Anna   24   50000\n",
       "2  Peter   35   60000\n",
       "3  Linda   40   70000"
      ]
     },
     "execution_count": 37,
     "metadata": {},
     "output_type": "execute_result"
    }
   ],
   "source": [
    "#Filter rows where Name is not \"John\"\n",
    "filtered_df = df[df['Name'] != 'John']\n",
    "filtered_df"
   ]
  },
  {
   "cell_type": "markdown",
   "id": "49a1bea1-9356-4f36-9f0e-5f39544915aa",
   "metadata": {},
   "source": [
    "- Numpy: Numerical Operations and Arrays :"
   ]
  },
  {
   "cell_type": "code",
   "execution_count": 216,
   "id": "22513110-33ec-4110-94e8-406a62a2722e",
   "metadata": {},
   "outputs": [
    {
     "name": "stdout",
     "output_type": "stream",
     "text": [
      "Requirement already satisfied: numpy in c:\\users\\huawei\\anaconda3\\lib\\site-packages (1.26.4)\n"
     ]
    }
   ],
   "source": [
    "#To install NumPy\n",
    "!pip install numpy"
   ]
  },
  {
   "cell_type": "code",
   "execution_count": 135,
   "id": "6e004a85-07a0-4cf6-9c7f-d2d96251db5f",
   "metadata": {},
   "outputs": [
    {
     "name": "stdout",
     "output_type": "stream",
     "text": [
      "Sum: 15, Mean: 3.0\n"
     ]
    }
   ],
   "source": [
    "import numpy as np\n",
    "#Create a numpy array\n",
    "arr = np.array([1, 2, 3, 4, 5])\n",
    "#Sum of all elements\n",
    "arr_sum = np.sum(arr)   \n",
    "#Mean of elements\n",
    "arr_mean = np.mean(arr) \n",
    "print(f\"Sum: {arr_sum}, Mean: {arr_mean}\")"
   ]
  },
  {
   "cell_type": "code",
   "execution_count": 218,
   "id": "6acc0d6c-dd31-4105-8f02-9dba70bbd187",
   "metadata": {},
   "outputs": [
    {
     "data": {
      "text/plain": [
       "(5,)"
      ]
     },
     "execution_count": 218,
     "metadata": {},
     "output_type": "execute_result"
    }
   ],
   "source": [
    "#Get the shape of the NumPy array \"arr\"\n",
    "arr.shape"
   ]
  },
  {
   "cell_type": "code",
   "execution_count": 220,
   "id": "c15fde92-27ef-4333-960e-1d5802142c1a",
   "metadata": {},
   "outputs": [
    {
     "data": {
      "text/plain": [
       "array([[ 1,  4,  9],\n",
       "       [16, 25, 36]])"
      ]
     },
     "execution_count": 220,
     "metadata": {},
     "output_type": "execute_result"
    }
   ],
   "source": [
    "#Create a 2D NumPy array\n",
    "arr2 = np.array([[1, 2, 3], [4, 5,6]])\n",
    "#Element-wise multiplication of the array with itself\n",
    "arr2*arr2"
   ]
  },
  {
   "cell_type": "code",
   "execution_count": 222,
   "id": "1f01778c-4281-484f-96e1-70f5d2e04fde",
   "metadata": {},
   "outputs": [
    {
     "data": {
      "text/plain": [
       "array([[0, 0, 0],\n",
       "       [0, 0, 0]])"
      ]
     },
     "execution_count": 222,
     "metadata": {},
     "output_type": "execute_result"
    }
   ],
   "source": [
    "#Element-wise subtraction of the array with itself\n",
    "arr2-arr2"
   ]
  },
  {
   "cell_type": "code",
   "execution_count": 224,
   "id": "42d2a4a7-753d-4548-8c97-4448e97a10c3",
   "metadata": {},
   "outputs": [
    {
     "data": {
      "text/plain": [
       "6"
      ]
     },
     "execution_count": 224,
     "metadata": {},
     "output_type": "execute_result"
    }
   ],
   "source": [
    "#Element-wise maximum of the array with itself\n",
    "maxx=np.max(arr2)\n",
    "maxx"
   ]
  },
  {
   "cell_type": "code",
   "execution_count": 226,
   "id": "f1d28225-9b98-4cbf-8e83-3e34086d53d7",
   "metadata": {},
   "outputs": [
    {
     "data": {
      "text/plain": [
       "1"
      ]
     },
     "execution_count": 226,
     "metadata": {},
     "output_type": "execute_result"
    }
   ],
   "source": [
    "#Element-wise minimum of the array with itself\n",
    "minn=np.min(arr2)\n",
    "minn"
   ]
  },
  {
   "cell_type": "code",
   "execution_count": 228,
   "id": "08b14ef9-1fad-4dcd-ba9c-f703eda47d93",
   "metadata": {},
   "outputs": [
    {
     "data": {
      "text/plain": [
       "21"
      ]
     },
     "execution_count": 228,
     "metadata": {},
     "output_type": "execute_result"
    }
   ],
   "source": [
    "#Calculate the sum of all elements in the array\n",
    "summ=np.sum(arr2)\n",
    "summ"
   ]
  },
  {
   "cell_type": "markdown",
   "id": "05150670-ee95-4a03-a738-d8c85f0e8fcf",
   "metadata": {},
   "source": [
    "- Matplotlib: Data Visualization :"
   ]
  },
  {
   "cell_type": "code",
   "execution_count": 43,
   "id": "b295514d-4d48-4b8c-81ac-62cfb11e146e",
   "metadata": {},
   "outputs": [
    {
     "data": {
      "image/png": "[encoded data removed]",
      "text/plain": [
       "<Figure size 640x480 with 1 Axes>"
      ]
     },
     "metadata": {},
     "output_type": "display_data"
    }
   ],
   "source": [
    "import matplotlib.pyplot as plt\n",
    "#Data to plot\n",
    "x = [1, 2, 3, 4, 5]\n",
    "y = [1, 4, 9, 16, 25]\n",
    "# Create a simple line plot\n",
    "plt.plot(x, y)\n",
    "plt.title('Simple Line Plot')\n",
    "plt.xlabel('X-axis')\n",
    "plt.ylabel('Y-axis')\n",
    "plt.show()"
   ]
  },
  {
   "cell_type": "code",
   "execution_count": 49,
   "id": "7641dd14-f5c8-45fd-817a-85f7f5dae692",
   "metadata": {},
   "outputs": [
    {
     "name": "stdout",
     "output_type": "stream",
     "text": [
      "Accuracy: 100.00%\n",
      "Predicted spending for June: 27000.0\n"
     ]
    },
    {
     "name": "stderr",
     "output_type": "stream",
     "text": [
      "C:\\Users\\huawei\\anaconda3\\Lib\\site-packages\\sklearn\\base.py:493: UserWarning: X does not have valid feature names, but LinearRegression was fitted with feature names\n",
      "  warnings.warn(\n"
     ]
    }
   ],
   "source": [
    "#pip install scikit-learn\n",
    "import pandas as pd\n",
    "from sklearn.linear_model import LinearRegression\n",
    "from sklearn.model_selection import train_test_split\n",
    "from sklearn import metrics\n",
    "\n",
    "#Sample Data\n",
    "data = {'Month': ['Jan', 'Feb', 'Mar', 'Apr', 'May'], \n",
    "        'Spending': [12000, 15000, 18000, 21000, 24000]}\n",
    "df = pd.DataFrame(data)\n",
    "\n",
    "#Convert months to numerical format \n",
    "df['Month'] = pd.to_datetime(df['Month'], format='%b').dt.month\n",
    "\n",
    "#Prepare training and testing sets\n",
    "X = df[['Month']]  # Independent variable\n",
    "y = df['Spending']  # Dependent variable\n",
    "X_train, X_test, y_train, y_test = train_test_split(X, y, test_size=0.3, random_state=42)\n",
    "\n",
    "#Train the linear regression model\n",
    "model = LinearRegression()\n",
    "model.fit(X_train, y_train)\n",
    "\n",
    "#Predict test set values\n",
    "y_pred = model.predict(X_test)\n",
    "\n",
    "#Evaluate the model (Accuracy)\n",
    "accuracy = metrics.r2_score(y_test, y_pred)\n",
    "print(f'Accuracy: {accuracy * 100:.2f}%')\n",
    "\n",
    "#Make a prediction for June (Month 6)\n",
    "prediction = model.predict([[6]])\n",
    "print(f\"Predicted spending for June: {prediction[0]}\")"
   ]
  }
 ],
 "metadata": {
  "kernelspec": {
   "display_name": "Python [conda env:base] *",
   "language": "python",
   "name": "conda-base-py"
  },
  "language_info": {
   "codemirror_mode": {
    "name": "ipython",
    "version": 3
   },
   "file_extension": ".py",
   "mimetype": "text/x-python",
   "name": "python",
   "nbconvert_exporter": "python",
   "pygments_lexer": "ipython3",
   "version": "3.12.7"
  }
 },
 "nbformat": 4,
 "nbformat_minor": 5
}
